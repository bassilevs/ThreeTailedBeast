{
 "cells": [
  {
   "cell_type": "code",
   "execution_count": 2,
   "metadata": {
    "pycharm": {
     "is_executing": false
    }
   },
   "outputs": [],
   "source": [
    "from pytorch_transformers import GPT2Tokenizer, GPT2LMHeadModel\n",
    "import torch"
   ]
  },
  {
   "cell_type": "code",
   "execution_count": null,
   "metadata": {},
   "outputs": [],
   "source": [
    "class StoryTime:\n",
    "    def __init__(self):\n",
    "        super(StoryTime, self).__init__()\n",
    "        self.device     = torch.device(\"cuda\" if torch.cuda.is_available() else \"cpu\")\n",
    "        self.tokenizer  = GPT2Tokenizer.from_pretrained(\"gpt2\")\n",
    "        self.model      = GPT2LMHeadModel.from_pretrained(\"gpt2\")\n",
    "\n",
    "    def get_next_word(self, text):\n",
    "        '''Get the next top word prediction based on text.'''\n",
    "        indexed_tokens = self.tokenizer.encode(text)\n",
    "        tokens_tensor  = torch.tensor([indexed_tokens])\n",
    "\n",
    "        self.model.eval()\n",
    "        tokens_tensor = tokens_tensor.to(self.device)\n",
    "        self.model.to(self.device)\n",
    "        \n",
    "        with torch.no_grad():\n",
    "            outputs = self.model(tokens_tensor)\n",
    "            predictions = outputs[0]\n",
    "\n",
    "        probs    = predictions[0, -1, :]\n",
    "        top_next = [self.tokenizer.decode(i.item()).strip() for i in probs.topk(10)[1]]\n",
    "        old_text = text.split()\n",
    "        \n",
    "        for item in top_next:\n",
    "            if item != old_text[-1]:\n",
    "                return item\n",
    "    \n",
    "    def get_next_n_words(self, curr_text, n):\n",
    "        '''Get the next n words for curr_text'''\n",
    "        for i in range(n):\n",
    "            next_word = self.get_next_word(curr_text)\n",
    "            curr_text = curr_text + \" \" + next_word\n",
    "            \n",
    "        return curr_text"
   ]
  },
  {
   "cell_type": "code",
   "execution_count": null,
   "metadata": {},
   "outputs": [],
   "source": [
    "st = StoryTime()"
   ]
  },
  {
   "cell_type": "code",
   "execution_count": null,
   "metadata": {},
   "outputs": [],
   "source": [
    "curr_text = \"\"\n",
    "while(True):\n",
    "    inp = input(\"Input: \")\n",
    "    curr_text = curr_text + \" \" + inp\n",
    "    curr_text = st.get_next_n_words(curr_text, 3)\n",
    "    print(\"\\nOutput: \" + curr_text + \"\\n\")"
   ]
  }
 ],
 "metadata": {
  "kernelspec": {
   "display_name": "Python 3",
   "language": "python",
   "name": "python3"
  },
  "language_info": {
   "codemirror_mode": {
    "name": "ipython",
    "version": 3
   },
   "file_extension": ".py",
   "mimetype": "text/x-python",
   "name": "python",
   "nbconvert_exporter": "python",
   "pygments_lexer": "ipython3",
   "version": "3.7.9"
  }
 },
 "nbformat": 4,
 "nbformat_minor": 4
}